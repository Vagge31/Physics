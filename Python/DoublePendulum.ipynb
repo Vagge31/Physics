{
 "cells": [
  {
   "cell_type": "code",
   "execution_count": 2,
   "id": "511b76d4-0795-4e15-ace4-add2facc63e1",
   "metadata": {
    "tags": []
   },
   "outputs": [],
   "source": [
    "import numpy as np\n",
    "import sympy as smp\n",
    "from scipy.integrate import odeint\n",
    "import matplotlib.pyplot as plt\n",
    "from matplotlib import animation\n",
    "from mpl_toolkits.mplot3d import Axes3D\n",
    "from matplotlib.animation import PillowWriter"
   ]
  },
  {
   "cell_type": "code",
   "execution_count": 3,
   "id": "0f2be020-7518-445c-9508-ea287b4b5bf7",
   "metadata": {
    "tags": []
   },
   "outputs": [],
   "source": [
    "t, g = smp.symbols('t g')\n",
    "m1, m2= smp.symbols('m1 m2')\n",
    "L1, L2 = smp.symbols('L1, L2')"
   ]
  },
  {
   "cell_type": "code",
   "execution_count": 4,
   "id": "8102dea0-6579-4c36-be16-78da03e18729",
   "metadata": {
    "tags": []
   },
   "outputs": [],
   "source": [
    "the1, the2 = smp.symbols(r'\\theta_1 \\theta_2', cls=smp.Function)"
   ]
  },
  {
   "cell_type": "code",
   "execution_count": 5,
   "id": "83336a13-1350-40a3-b49b-e02ad612b034",
   "metadata": {
    "tags": []
   },
   "outputs": [],
   "source": [
    "the1 = the1(t)\n",
    "the2 = the2(t)"
   ]
  },
  {
   "cell_type": "code",
   "execution_count": 6,
   "id": "e74637a4-3136-4799-b7aa-f8e1b5689982",
   "metadata": {
    "tags": []
   },
   "outputs": [],
   "source": [
    "the1_d = smp.diff(the1, t)\n",
    "the1_dd = smp.diff(the1_d, t)\n",
    "the2_d = smp.diff(the2, t)\n",
    "the2_dd = smp.diff(the2_d, t)"
   ]
  },
  {
   "cell_type": "code",
   "execution_count": 7,
   "id": "1e97c48f-9752-4887-b325-5568f37065a1",
   "metadata": {
    "tags": []
   },
   "outputs": [],
   "source": [
    "x1 = L1*smp.sin(the1)\n",
    "y1 = -L1*smp.cos(the1)\n",
    "x2 = L1*smp.sin(the1)+L2*smp.sin(the2)\n",
    "y2 = -L1*smp.cos(the1)-L2*smp.cos(the2)"
   ]
  },
  {
   "cell_type": "code",
   "execution_count": 8,
   "id": "0d01d924-954d-41b9-b671-c53bf887b95f",
   "metadata": {
    "tags": []
   },
   "outputs": [],
   "source": [
    "# Kinetic\n",
    "T1 = 1/2 * m1 * (smp.diff(x1, t)**2 + smp.diff(y1, t)**2)\n",
    "T2 = 1/2 * m2 * (smp.diff(x2, t)**2 + smp.diff(y2, t)**2)\n",
    "T = T1+T2\n",
    "# Potential\n",
    "V1 = m1*g*y1\n",
    "V2 = m2*g*y2\n",
    "V = V1 + V2\n",
    "# Lagrangian\n",
    "L = T-V"
   ]
  },
  {
   "cell_type": "code",
   "execution_count": 9,
   "id": "60672583-7635-452f-8177-ded566dc3b45",
   "metadata": {
    "tags": []
   },
   "outputs": [],
   "source": [
    "EL1 = smp.diff(smp.diff(L,the1_d), t) - smp.diff(L,the1).simplify()\n",
    "EL2 = smp.diff(smp.diff(L,the2_d), t) - smp.diff(L,the2).simplify()"
   ]
  },
  {
   "cell_type": "code",
   "execution_count": 10,
   "id": "f2d1bebc-9412-46ce-9efa-fe71cb7939ca",
   "metadata": {
    "tags": []
   },
   "outputs": [],
   "source": [
    "sols = smp.solve([EL1,EL2], (the1_dd,the2_dd), \n",
    "        simplify=False, rational=False)"
   ]
  },
  {
   "cell_type": "code",
   "execution_count": 11,
   "id": "327d228a-d293-4163-ab83-5bbae3c51292",
   "metadata": {
    "tags": []
   },
   "outputs": [],
   "source": [
    "dz1dt_f = smp.lambdify((t,g,m1,m2,L1,L2,the1,the2,the1_d,the2_d), sols[the1_dd])\n",
    "dz2dt_f = smp.lambdify((t,g,m1,m2,L1,L2,the1,the2,the1_d,the2_d), sols[the2_dd])\n",
    "dthe1dt_f = smp.lambdify(the1_d, the1_d)\n",
    "dthe2dt_f = smp.lambdify(the2_d, the2_d)"
   ]
  },
  {
   "cell_type": "code",
   "execution_count": null,
   "id": "d052ef10-6518-4e0f-b5c6-b16b652016b3",
   "metadata": {
    "tags": []
   },
   "outputs": [],
   "source": [
    "def dSdt(S, t, g, m1, m2, L1, L2):\n",
    "    the1, z1, the2, z2 = S\n",
    "    return [\n",
    "        dthe1dt_f(z1),\n",
    "        dz1dt_f(t, g, m1, m2, L1, L2, the1, the2, z1, z2),\n",
    "        dthe2dt_f(z2),\n",
    "        dz2dt_f(t, g, m1, m2, L1, L2, the1, the2, z1, z2),\n",
    "    ]"
   ]
  },
  {
   "cell_type": "code",
   "execution_count": null,
   "id": "0f59659f-fc25-4f66-a016-a60324535712",
   "metadata": {
    "tags": []
   },
   "outputs": [],
   "source": [
    "t = np.linspace(0,40,1001)\n",
    "g = 9.81\n",
    "m1=2\n",
    "m2=1\n",
    "L1=2\n",
    "L1=1\n",
    "ans = odeint(dSdt, y0=[1,-3,1,5],t=t,args=(g,m1,m2,L1,L2))"
   ]
  },
  {
   "cell_type": "code",
   "execution_count": null,
   "id": "f1b2a73a-f427-4b3a-837b-0f7ce497c7b0",
   "metadata": {},
   "outputs": [],
   "source": []
  }
 ],
 "metadata": {
  "kernelspec": {
   "display_name": "Python 3 (ipykernel)",
   "language": "python",
   "name": "python3"
  },
  "language_info": {
   "codemirror_mode": {
    "name": "ipython",
    "version": 3
   },
   "file_extension": ".py",
   "mimetype": "text/x-python",
   "name": "python",
   "nbconvert_exporter": "python",
   "pygments_lexer": "ipython3",
   "version": "3.11.3"
  }
 },
 "nbformat": 4,
 "nbformat_minor": 5
}
