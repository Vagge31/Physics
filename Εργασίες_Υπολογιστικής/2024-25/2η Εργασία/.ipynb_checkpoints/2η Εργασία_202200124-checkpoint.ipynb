{
 "cells": [
  {
   "cell_type": "code",
   "execution_count": 86,
   "id": "f65c193f-6aac-4797-a5b0-58cedf7acae2",
   "metadata": {
    "tags": []
   },
   "outputs": [],
   "source": [
    "#Άσκηση 1\n",
    "import numpy as np\n",
    "import matplotlib.pyplot as plt\n",
    "#Παράμετροι-Σταθερές\n",
    "theta = 60\n",
    "phi = 30\n",
    "v_0 = 1000\n",
    "g = 10\n",
    "\n",
    "#Δείγματα\n",
    "t = np.array([0,5,15,25,35,45,55,65,75,85,95,105,115])\n",
    "s = np.array([0,4892.3, 14041.3, 22371.3, 29926.1, 36764.4,42965.4,48634.8,53910.3,58961.8,63981.6,69165.5,74692.1])"
   ]
  },
  {
   "cell_type": "code",
   "execution_count": 106,
   "id": "a423a38e-e7c9-488d-8bb4-eb6abfa6f7f1",
   "metadata": {
    "tags": []
   },
   "outputs": [],
   "source": [
    "#Αριθμητική Παραγώγιση με την μέθοδο Newton-Gregory 2ης ταξης\n",
    "def newton_derivative(x_points, y_points):\n",
    "    h = x_points[2]-x_points[1] #βημα=10\n",
    "    n = len(y_points)\n",
    "    derivatives = np.zeros(n)\n",
    "    for i in range(1,n-2):\n",
    "        delta_f = y_points[i+1] - y_points[i]\n",
    "        delta2_f = y_points[i+2]-2*y_points[i+1]+y_points[i]\n",
    "        derivatives[i] = delta_f/h - delta2_f/(2*h)\n",
    "        \n",
    "    derivatives[-2] = (y_points[-2] - y_points[-3])/h #Στα ακρα εφαρμοζω πρωτης ταξης με μπροστα διαφορες στο πρωτο ακρο\n",
    "    derivatives[-1] = (y_points[-1] - y_points[-2])/h #Με προς τα πισω διαφορες στο δευτερο άκρο\n",
    "    return derivatives\n",
    "\n",
    "v = newton_derivative(t, s)\n",
    "v[0] = v_0 #Το πρώτο στοιχείο εινια η δεδομενη αρχική ταχύτητα"
   ]
  },
  {
   "cell_type": "code",
   "execution_count": 105,
   "id": "5c4cfee1-67ff-45c7-a8c1-caa08144cc0d",
   "metadata": {
    "tags": []
   },
   "outputs": [
    {
     "data": {
      "text/plain": [
       "array([1000.   ,  955.85 ,  871.76 ,  791.305,  715.695,  646.68 ,\n",
       "        586.635,  538.75 ,  506.735,  493.775,  501.255,  518.39 ,\n",
       "        552.66 ])"
      ]
     },
     "execution_count": 105,
     "metadata": {},
     "output_type": "execute_result"
    }
   ],
   "source": [
    "v"
   ]
  },
  {
   "cell_type": "code",
   "execution_count": 126,
   "id": "e3a69b13-4c24-457b-aa7d-2a533463625d",
   "metadata": {
    "tags": []
   },
   "outputs": [],
   "source": [
    "#Η βάση του πολυωνύμου παρεμβολής (L_i)\n",
    "def lagrange_basis(x_points, i, x):\n",
    "    L_i = 1\n",
    "    for j in range(len(x_points)):\n",
    "        if j != i:\n",
    "            L_i *= (x - x_points[j]) / (x_points[i] - x_points[j])\n",
    "    return L_i\n",
    "\n",
    "#Παρεμβολή Lagrange\n",
    "def lagrange_interpolation(x_points, y_points, x):\n",
    "    n = len(x_points)\n",
    "    P_x = 0\n",
    "    for i in range(n):\n",
    "        P_x += y_points[i] * lagrange_basis(x_points, i, x)\n",
    "    return P_x\n",
    "\n",
    "x_points = np.array([75,85,95])\n",
    "y_points = np.array([v[8],v[9],v[10]])\n",
    "x = np.arange(75,96,1)\n",
    "interpol_points = lagrange_interpolation(x_points,y_points,x)"
   ]
  },
  {
   "cell_type": "code",
   "execution_count": 127,
   "id": "35c81e2e-dc44-4c36-a811-d2b1d7798a6f",
   "metadata": {
    "tags": []
   },
   "outputs": [
    {
     "data": {
      "text/plain": [
       "493.60319999999933"
      ]
     },
     "execution_count": 127,
     "metadata": {},
     "output_type": "execute_result"
    }
   ],
   "source": [
    "min(interpol_points)"
   ]
  },
  {
   "cell_type": "code",
   "execution_count": 128,
   "id": "134a6d06-eeae-41d5-bce0-bb3a2cbeca6b",
   "metadata": {
    "tags": []
   },
   "outputs": [
    {
     "data": {
      "text/plain": [
       "(493.60319999999933, 86)"
      ]
     },
     "execution_count": 128,
     "metadata": {},
     "output_type": "execute_result"
    }
   ],
   "source": [
    "interpol_points[11], x[11] #Mε απευθειας σύγκριση των τιμων βρίσκουμε το ελάχιστο και την θέση του, μπορείτε να τρέξετε για να δείτε όλα τα στοιχεία της παρεμβολής"
   ]
  },
  {
   "cell_type": "code",
   "execution_count": 129,
   "id": "f4a9c342-535d-4fe8-9a68-6d7018b2f1d2",
   "metadata": {
    "tags": []
   },
   "outputs": [],
   "source": [
    "integral = ((t[1]-t[0])/2)*(v[1]+v[0])#Aκρο απο t=0 - 5s\n",
    "stp = (t[2]-t[1])#βημα=10\n",
    "for i in range(2,len(t)-1):\n",
    "    if i%2 == 1:        \n",
    "        integral += (stp/3)*(2*v[i])\n",
    "    elif i%2 !=1:\n",
    "        integral +=(stp/3)*(4*v[i])\n",
    "integral += (stp/3)*(v[1] + v[-1])#Aκρο\n",
    "\n",
    "#Για τον υπολογισμό σφάλματος, διαμερίζω το διαστημα σε μισο βημα(εδω το βημα τωρα ειναι 5) και προσεγγίζω με παρεμβολή τις \"νεες\" ταχύτητες στα ενδιαμεσα σημεία\n",
    "new_t = [t[0]]\n",
    "new_v = [v[0]]\n",
    "for i in range(1, len(t)-1):\n",
    "    new_t.append(t[i])\n",
    "    new_v.append(v[i])\n",
    "    mid_t = (t[i]+ t[i+1])/2\n",
    "    mid_v = (v[i] + v[i+1])/2\n",
    "    new_t.append(mid_t)\n",
    "    new_v.append(mid_v)\n",
    "    \n",
    "new_integral = ((new_t[1]-new_t[0])/2)*(new_v[1]+new_v[0])\n",
    "new_stp = new_t[2]-new_t[1]\n",
    "for i in range(2,len(new_t)-1):\n",
    "    if i%2 == 1:        \n",
    "        new_integral += (new_stp/3)*(2*new_v[i])\n",
    "    elif i%2 !=1:\n",
    "        new_integral +=(new_stp/3)*(4*new_v[i])\n",
    "new_integral += (new_stp/3)*(new_v[1] + new_v[-1])"
   ]
  },
  {
   "cell_type": "code",
   "execution_count": 130,
   "id": "46a83d93-4333-4c0b-ad99-e55c93c703f5",
   "metadata": {
    "tags": []
   },
   "outputs": [
    {
     "data": {
      "text/plain": [
       "(array([  0,   5,  15,  25,  35,  45,  55,  65,  75,  85,  95, 105, 115]),\n",
       " array([1000.   ,  955.85 ,  871.76 ,  791.305,  715.695,  646.68 ,\n",
       "         586.635,  538.75 ,  506.735,  493.775,  501.255,  518.39 ,\n",
       "         552.66 ]))"
      ]
     },
     "execution_count": 130,
     "metadata": {},
     "output_type": "execute_result"
    }
   ],
   "source": [
    "t, v"
   ]
  },
  {
   "cell_type": "code",
   "execution_count": 131,
   "id": "3fbcdd9f-566d-4b5f-b9f9-9a2395358763",
   "metadata": {
    "tags": []
   },
   "outputs": [
    {
     "data": {
      "text/plain": [
       "(72271.725, 70543.25)"
      ]
     },
     "execution_count": 131,
     "metadata": {},
     "output_type": "execute_result"
    }
   ],
   "source": [
    "integral, new_integral"
   ]
  },
  {
   "cell_type": "code",
   "execution_count": 125,
   "id": "ef729aee-1120-43a9-b9cf-68ec5355907b",
   "metadata": {
    "tags": []
   },
   "outputs": [
    {
     "data": {
      "text/plain": [
       "115.23166666666705"
      ]
     },
     "execution_count": 125,
     "metadata": {},
     "output_type": "execute_result"
    }
   ],
   "source": [
    "abs(new_integral-integral)/15 #Σφάλμα"
   ]
  },
  {
   "cell_type": "code",
   "execution_count": 93,
   "id": "ae3ab309-b443-4a65-97cb-5f52d4a7c471",
   "metadata": {
    "tags": []
   },
   "outputs": [],
   "source": [
    "#Ασκηση 2\n",
    "#Γραμμική Πυκνότητα μάζας\n",
    "def l(x):\n",
    "    return np.exp(x**2)\n",
    "#Συνάρτηση που θα ολοκληρωθεί για να δώσει την ροπή αδράνειας\n",
    "def f(x):\n",
    "    return (x**2)*l(x)       "
   ]
  },
  {
   "cell_type": "code",
   "execution_count": 94,
   "id": "5c583b7f-8e43-4c50-b610-1b46f0de9d8b",
   "metadata": {
    "tags": []
   },
   "outputs": [
    {
     "data": {
      "text/plain": [
       "((2.6727184649622595, 0.036243757712787275),\n",
       " (1.2095096170474384, 0.07248751542557455))"
      ]
     },
     "execution_count": 94,
     "metadata": {},
     "output_type": "execute_result"
    }
   ],
   "source": [
    "#Μέθοδος τραπεζίου\n",
    "def m_trapz(a,b):\n",
    "    n=10\n",
    "    h = (b-a)/n\n",
    "    integral = (h/2)*(l(a)+l(b))\n",
    "    x_i = np.linspace(a,b,n)\n",
    "    \n",
    "    for i in range(1,n-1):\n",
    "        integral += (h/2)*(2*l(x_i[i]))\n",
    "    error = (h**2)/(12) * 4*np.exp(1)\n",
    "    return integral, error\n",
    "\n",
    "def I_trapz(a,b):\n",
    "    n=10\n",
    "    h = (b-a)/n\n",
    "    integral = (h/2)*(f(a)+f(b))\n",
    "    x_i = np.linspace(a,b,n)\n",
    "    \n",
    "    for i in range(1,n-1):\n",
    "        integral += (h/2)*(2*f(x_i[i]))\n",
    "    \n",
    "    error = (h**2)/(12) * 8*np.exp(1)\n",
    "    return integral, error  \n",
    "\n",
    "m_trapz(-1,1), I_trapz(-1,1)"
   ]
  },
  {
   "cell_type": "code",
   "execution_count": 132,
   "id": "c9e866d7-34f7-4479-8dac-371a5420be1e",
   "metadata": {
    "tags": []
   },
   "outputs": [],
   "source": [
    "#Κανόνας Simpson\n",
    "def m_simps(a,b):\n",
    "    n=10\n",
    "    h=(b-a)/n\n",
    "    integral = (h/3)*(l(a)+l(b))\n",
    "    x_i = np.linspace(a,b,n)\n",
    "    \n",
    "    for i in range(1,n-1):\n",
    "        if i % 2==0:\n",
    "            integral += (h/3)*(2*l(x_i[i]))\n",
    "        else:\n",
    "            integral += (h/3)*(4*l(x_i[i]))\n",
    "    error = (h**4)/90 * (40*np.exp(1))\n",
    "    return integral, error\n",
    "\n",
    "def I_simps(a,b):\n",
    "    n=10\n",
    "    h=(b-a)/n\n",
    "    integral = (h/3)*(f(a)+f(b))\n",
    "    x_i = np.linspace(a,b,n)\n",
    "    \n",
    "    for i in range(1,n-1):\n",
    "        if i % 2==0:\n",
    "            integral += (h/3)*(2*f(x_i[i]))\n",
    "        else:\n",
    "            integral += (h/3)*(4*f(x_i[i]))\n",
    "    error = (h**4)/90 * (40*np.exp(1))\n",
    "    return integral, error"
   ]
  },
  {
   "cell_type": "code",
   "execution_count": 96,
   "id": "3d843980-1b62-4ca1-b129-17434fc33420",
   "metadata": {
    "tags": []
   },
   "outputs": [
    {
     "data": {
      "text/plain": [
       "((2.4914996763983237, 0.0019330004113486544),\n",
       " (1.2256840153460489, 1.9330004113486544e-07))"
      ]
     },
     "execution_count": 96,
     "metadata": {},
     "output_type": "execute_result"
    }
   ],
   "source": [
    "m_simps(-1,1), I_simps(-1,1)"
   ]
  },
  {
   "cell_type": "code",
   "execution_count": 97,
   "id": "2008298e-bc2e-4b11-afb4-8876cddf8d54",
   "metadata": {},
   "outputs": [
    {
     "data": {
      "text/plain": [
       "(2.791224850172179, 0.9304082833907263)"
      ]
     },
     "execution_count": 97,
     "metadata": {},
     "output_type": "execute_result"
    }
   ],
   "source": [
    "#Gauss-Legendre 2 σημείων\n",
    "def m_gauss_2(a,b):\n",
    "    x1 = np.sqrt(3)/3\n",
    "    x2 = -np.sqrt(3)/3\n",
    "    integral = (b-a)/2 *(l((b-a)/2*x1 + (b+a)/2)+l((b-a)/2*x2 + (b+a)/2)) #Αλλαγή μεταβλητης ωστε το διαστημα να μετατραπει σε (-1,1) για να μπορει να εφαρμοστει η μεθοδος σε τυχαιο διαστημα (α,β)\n",
    "    return integral\n",
    "def I_gauss_2(a,b):\n",
    "    x1 = np.sqrt(3)/3\n",
    "    x2 = -np.sqrt(3)/3\n",
    "    integral = (b-a)/2 *(f((b-a)/2*x1 + (b+a)/2)+f((b-a)/2*x2 + (b+a)/2)) #Αλλαγή μεταβλητης ωστε το διαστημα να μετατραπει σε (-1,1) για να μπορει να εφαρμοστει η μεθοδος σε τυχαιο διαστημα (α,β)\n",
    "    return integral\n",
    "\n",
    "m_gauss_2(-1,1), I_gauss_2(-1,1)"
   ]
  },
  {
   "cell_type": "code",
   "execution_count": 98,
   "id": "ab7bfb3b-1c2a-456a-a603-232ab9eb4f11",
   "metadata": {
    "tags": []
   },
   "outputs": [],
   "source": [
    "#Gauss-Legendre 3 σημείων\n",
    "def m_gauss_3(a,b):\n",
    "    x1 = -np.sqrt(3/5)\n",
    "    x2 = 0\n",
    "    x3 = np.sqrt(3/5)\n",
    "    w1= 5/9\n",
    "    w2=8/9\n",
    "    w3=5/9\n",
    "    \n",
    "    integral = (b-a)/2 *(w1*l((b-a)/2*x1 + (b+a)/2)+w2*l((b-a)/2*x2 + (b+a)/2)+w3*l((b-a)/2*x3 + (b+a)/2))\n",
    "    return integral\n",
    "def I_gauss_3(a,b):\n",
    "    x1 = -np.sqrt(3/5)\n",
    "    x2 = 0\n",
    "    x3 = np.sqrt(3/5)\n",
    "    w1= 5/9\n",
    "    w2=8/9\n",
    "    w3=5/9\n",
    "    \n",
    "    integral = (b-a)/2 *(w1*f((b-a)/2*x1 + (b+a)/2)+w2*f((b-a)/2*x2 + (b+a)/2)+w3*f((b-a)/2*x3 + (b+a)/2))\n",
    "    return integral"
   ]
  },
  {
   "cell_type": "code",
   "execution_count": 99,
   "id": "7e8b7a1e-6a09-486f-a207-6939e38225ae",
   "metadata": {
    "tags": []
   },
   "outputs": [
    {
     "data": {
      "text/plain": [
       "(2.9134653337672325, 1.2147458669270064)"
      ]
     },
     "execution_count": 99,
     "metadata": {},
     "output_type": "execute_result"
    }
   ],
   "source": [
    "m_gauss_3(-1,1), I_gauss_3(-1,1)"
   ]
  },
  {
   "cell_type": "markdown",
   "id": "6ec80941-15f4-4375-9345-5f17addefa84",
   "metadata": {},
   "source": [
    "Για το β) ερώτημα, το ολοκλήρωμα μπορεί να σπάσει σε γινόμενο δύο μονοδιάστατων ολοκληρωμάτων κάνοντας χρήση του Θεωρήματος Fubini:\n",
    "$$m = \\int_{D(1)} \\sigma da = \\int_0^1\\int_0^{2\\pi} (1+e^r)\\cos{\\phi}\\,  r dr d\\phi = \\int_0^1\\int_0^{2\\pi} r dr d\\phi + \\int_0^{2\\pi} \\cos{\\phi}\\,  d\\phi\\int_0^1r e^r dr$$\n",
    "Μάλιστα, επειδή το ολοκλήρωμα του $\\cos{\\phi}$ μηδενίζεται, επιζεί μόνο ο πρώτος όρος και στην πραγματικότητα το ολοκλήρωμα είναι τετριμμένο και υπολογίζεται αναλυτικά:\n",
    "$$m = \\int_0^{2\\pi}\\int_0^1rdrd\\phi = 2\\pi \\left[\\frac{r^2}{2} \\right]_0 ^1 = \\pi$$\n",
    "Όμως ας το υπολογίσουμε και αριθμητικά, έχει ενδιαφέρον γιατί αριθμητικά μπορούμε να προσεγγίσουμε τον αριθμό $\\pi$"
   ]
  },
  {
   "cell_type": "code",
   "execution_count": 100,
   "id": "363b2180-d5f9-4747-a0db-a141d77a9429",
   "metadata": {},
   "outputs": [],
   "source": [
    "def f1(r):\n",
    "    return r\n",
    "def f2(phi):\n",
    "    return 1\n",
    "def f3(phi):\n",
    "    return np.cos(phi)\n",
    "def f4(r):\n",
    "    return r*np.exp(r)"
   ]
  },
  {
   "cell_type": "code",
   "execution_count": 101,
   "id": "cecc490d-3320-4ee7-bd9c-6a2da939ac01",
   "metadata": {
    "tags": []
   },
   "outputs": [],
   "source": [
    "def simps1(a,b):\n",
    "    n=10000\n",
    "    h=(b-a)/n\n",
    "    integral = (h/3)*(f1(a)+f1(b))\n",
    "    x_i = np.linspace(a,b,n)\n",
    "    \n",
    "    for i in range(1,n-1):\n",
    "        if i % 2==0:\n",
    "            integral += (h/3)*(2*f1(x_i[i]))\n",
    "        else:\n",
    "            integral += (h/3)*(4*f1(x_i[i]))\n",
    "    return integral\n",
    "def simps3(a,b):\n",
    "    n=10000\n",
    "    h=(b-a)/n\n",
    "    integral = (h/3)*(f2(a)+f2(b))\n",
    "    x_i = np.linspace(a,b,n)\n",
    "    \n",
    "    for i in range(1,n-1):\n",
    "        if i % 2==0:\n",
    "            integral += (h/3)*(2*f2(x_i[i]))\n",
    "        else:\n",
    "            integral += (h/3)*(4*f2(x_i[i]))\n",
    "    return integral\n",
    "def simps3(a,b):\n",
    "    n=10000\n",
    "    h=(b-a)/n\n",
    "    integral = (h/3)*(f3(a)+f3(b))\n",
    "    x_i = np.linspace(a,b,n)\n",
    "    \n",
    "    for i in range(1,n-1):\n",
    "        if i % 2==0:\n",
    "            integral += (h/3)*(2*f3(x_i[i]))\n",
    "        else:\n",
    "            integral += (h/3)*(4*f3(x_i[i]))\n",
    "    return integral\n",
    "def simps4(a,b):\n",
    "    n=10000\n",
    "    h=(b-a)/n\n",
    "    integral = (h/3)*(f4(a)+f4(b))\n",
    "    x_i = np.linspace(a,b,n)\n",
    "    \n",
    "    for i in range(1,n-1):\n",
    "        if i % 2==0:\n",
    "            integral += (h/3)*(2*f4(x_i[i]))\n",
    "        else:\n",
    "            integral += (h/3)*(4*f4(x_i[i]))\n",
    "    return integral\n",
    "\n",
    "m = simps1(0,1)*simps2(0,2*np.pi) + simps3(0,2*np.pi)*simps4(0,1)"
   ]
  },
  {
   "cell_type": "code",
   "execution_count": 102,
   "id": "ec60f075-0b44-4211-bece-bcef605e47b9",
   "metadata": {
    "tags": []
   },
   "outputs": [
    {
     "data": {
      "text/plain": [
       "3.098978744825726"
      ]
     },
     "execution_count": 102,
     "metadata": {},
     "output_type": "execute_result"
    }
   ],
   "source": [
    "m"
   ]
  },
  {
   "cell_type": "code",
   "execution_count": 134,
   "id": "3526dfda-5313-4766-b760-5fe96fcfb803",
   "metadata": {
    "tags": []
   },
   "outputs": [],
   "source": [
    "#Άσκηση 3\n",
    "x = np.array([2.0, 2.1, 2.2, 2.3, 2.4, 2.5, 2.6, 2.7, 2.8, 2.9, \n",
    "              3.0, 3.1, 3.2, 3.3, 3.4, 3.5, 3.6, 3.7, 3.8, 3.9, 4.0])\n",
    "y = np.array([421, 359, 318, 303, 293, 243, 221, 213, 218, 297, \n",
    "              340, 400, 335, 220, 114, 106, 78, 63, 72, 50, 57])\n",
    "\n",
    "# Αβεβαιότητες (τετραγωνική ρίζα των y λόγω Poisson)\n",
    "sigma_y = np.sqrt(y)\n",
    "\n",
    "# Τμήμα υποβάθρου (x < 2.9 ή x > 3.3 θεωρούνται εκτός σήματος)\n",
    "x_bkg = np.concatenate((x[x < 2.9], x[x > 3.3]))\n",
    "y_bkg = np.concatenate((y[x < 2.9], y[x > 3.3]))\n",
    "sigma_bkg = np.sqrt(y_bkg)\n",
    "\n",
    "# Μετασχηματισμός για γραμμικοποίηση: ln(y) = a + b * x\n",
    "ln_y_bkg = np.log(y_bkg)\n",
    "weights = 1 / sigma_bkg**2\n",
    "\n",
    "# Υπολογισμός παραμέτρων με ελαχ. τετραγώνα\n",
    "W = np.sum(weights)\n",
    "Wx = np.sum(weights * x_bkg)\n",
    "Wy = np.sum(weights * ln_y_bkg)\n",
    "Wxx = np.sum(weights * x_bkg**2)\n",
    "Wxy = np.sum(weights * x_bkg * ln_y_bkg)\n",
    "\n",
    "delta = W * Wxx - Wx**2\n",
    "a_fit = (Wxx * Wy - Wx * Wxy) / delta\n",
    "b_fit = (W * Wxy - Wx * Wy) / delta\n",
    "\n",
    "# Αντιστροφή μετασχηματισμού για το υπόβαθρο\n",
    "def background_func(x, a, b):\n",
    "    return np.exp(a + b * x)\n",
    "\n",
    "y_fit_bkg = background_func(x, a_fit, b_fit)\n",
    "\n",
    "# Υπολογισμός γεγονότων σήματος\n",
    "signal_counts = np.sum(y - y_fit_bkg)\n",
    "\n",
    "#Aριθμητική παραγώγο με Newton-Gregory\n",
    "def newton_gregory_derivative(x, y):\n",
    "    n = len(x)\n",
    "    h = x[1] - x[0]  # Σταθερό βήμα\n",
    "    dy_dx = np.zeros(n)\n",
    "    \n",
    "    for i in range(1, n - 1):  # Αποφυγή άκρων για καλύτερη ακρίβεια\n",
    "        # Υπολογισμός 1ης διαφοράς\n",
    "        delta_1 = y[i + 1] - y[i]\n",
    "        delta_2 = y[i] - y[i - 1]\n",
    "        \n",
    "        # Newton-Gregory 1ης τάξης (εμπρός-πίσω)\n",
    "        dy_dx[i] = (delta_1 - delta_2) / (2 * h)\n",
    "    \n",
    "    return dy_dx\n",
    "\n",
    "# Υπολογισμός παραγώγου για το υπόβαθρο\n",
    "numerical_deriv = newton_gregory_derivative(x, y_fit_bkg)"
   ]
  }
 ],
 "metadata": {
  "kernelspec": {
   "display_name": "Python 3 (ipykernel)",
   "language": "python",
   "name": "python3"
  },
  "language_info": {
   "codemirror_mode": {
    "name": "ipython",
    "version": 3
   },
   "file_extension": ".py",
   "mimetype": "text/x-python",
   "name": "python",
   "nbconvert_exporter": "python",
   "pygments_lexer": "ipython3",
   "version": "3.11.3"
  }
 },
 "nbformat": 4,
 "nbformat_minor": 5
}
